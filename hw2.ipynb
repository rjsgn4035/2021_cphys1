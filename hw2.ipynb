{
 "cells": [
  {
   "cell_type": "markdown",
   "metadata": {},
   "source": [
    "# Logistic Map (part 2)"
   ]
  },
  {
   "cell_type": "markdown",
   "metadata": {},
   "source": [
    "로지스틱 맵은 다음처럼 주어진다.\n",
    "$$ f_{n+1} = r f_n (1- f_n). $$  \n",
    "\n",
    "주어진 $r$과 초기조건 $f_0$에 대해 $f_n$을 다음의 과정을 통해 구하여라. \n",
    "\n",
    "Reference:  \n",
    "https://ko.wikipedia.org/wiki/%EB%A1%9C%EC%A7%80%EC%8A%A4%ED%8B%B1_%EC%82%AC%EC%83%81"
   ]
  },
  {
   "cell_type": "markdown",
   "metadata": {},
   "source": [
    "1. $f_n$을 구하는 함수를 작성하여라.\n",
    "2. 작성한 함수를 이용하여 다음의 조건에서 $n=1$에서 $20$까지 로지스틱 맵의 값을 구하여라.\n",
    "  * $r=4.5$, $f_0$=0.5\n",
    "  * $r=4.5$, $f_0$=0.51\n",
    "  * $r=4.5$, $f_0$=0.501\n",
    "3. 초기조건에 민감함을 확인하여라."
   ]
  },
  {
   "cell_type": "code",
   "execution_count": 10,
   "metadata": {},
   "outputs": [],
   "source": [
    "# 로지스틱 맵 함수 정의\n",
    "def logistic_map(r, f0, n):\n",
    "    for i in range(n):\n",
    "        f0 = r * f0 * (1 - f0)\n",
    "    return f0"
   ]
  },
  {
   "cell_type": "code",
   "execution_count": 11,
   "metadata": {},
   "outputs": [
    {
     "name": "stdout",
     "output_type": "stream",
     "text": [
      "r = 4.5 , f0 = 0.5\n",
      "f1 = 1.125\n",
      "f2 = -0.6328125\n",
      "f3 = -4.649688720703125\n",
      "f4 = -118.21182264061645\n",
      "f5 = -63415.11075595729\n",
      "f6 = -18096928592.854885\n",
      "f7 = -1.4737447103084353e+21\n",
      "f8 = -9.773655620229423e+42\n",
      "f9 = -4.298595488227898e+86\n",
      "f10 = -8.315065427135959e+173\n",
      "f11 = -inf\n",
      "f12 = -inf\n",
      "f13 = -inf\n",
      "f14 = -inf\n",
      "f15 = -inf\n",
      "f16 = -inf\n",
      "f17 = -inf\n",
      "f18 = -inf\n",
      "f19 = -inf\n",
      "f20 = -inf\n"
     ]
    }
   ],
   "source": [
    "# r = 4.5, f0 = 0.5\n",
    "r = 4.5\n",
    "f0 = 0.5\n",
    "print('r =', r, ',', 'f0 =', f0)\n",
    "for i in range(1, 21):\n",
    "    print('f' + str(i) + ' =', logistic_map(r, f0, i))"
   ]
  },
  {
   "cell_type": "code",
   "execution_count": 12,
   "metadata": {},
   "outputs": [
    {
     "name": "stdout",
     "output_type": "stream",
     "text": [
      "r = 4.5 , f0 = 0.51\n",
      "f1 = 1.12455\n",
      "f2 = -0.6302821612499996\n",
      "f3 = -4.623919938179865\n",
      "f4 = -117.0204998979472\n",
      "f5 = -62148.68053318534\n",
      "f6 = -17381342883.134087\n",
      "f7 = -1.359499861973058e+21\n",
      "f8 = -8.317079436171436e+42\n",
      "f9 = -3.11282146564136e+86\n",
      "f10 = -4.360345864630932e+173\n",
      "f11 = -inf\n",
      "f12 = -inf\n",
      "f13 = -inf\n",
      "f14 = -inf\n",
      "f15 = -inf\n",
      "f16 = -inf\n",
      "f17 = -inf\n",
      "f18 = -inf\n",
      "f19 = -inf\n",
      "f20 = -inf\n"
     ]
    }
   ],
   "source": [
    "# r = 4.5, f0 = 0.51\n",
    "r = 4.5\n",
    "f0 = 0.51\n",
    "print('r =', r, ',', 'f0 =', f0)\n",
    "for i in range(1, 21):\n",
    "    print('f' + str(i) + ' =', logistic_map(r, f0, i))"
   ]
  },
  {
   "cell_type": "code",
   "execution_count": 13,
   "metadata": {},
   "outputs": [
    {
     "name": "stdout",
     "output_type": "stream",
     "text": [
      "r = 4.5 , f0 = 0.501\n",
      "f1 = 1.1249955\n",
      "f2 = -0.6327871875911253\n",
      "f3 = -4.649430655667751\n",
      "f4 = -118.19986234888862\n",
      "f5 = -63402.33294740298\n",
      "f6 = -18089636514.7783\n",
      "f7 = -1.4725572716470052e+21\n",
      "f8 = -9.757912132262123e+42\n",
      "f9 = -4.2847582131426745e+86\n",
      "f10 = -8.261618825292122e+173\n",
      "f11 = -inf\n",
      "f12 = -inf\n",
      "f13 = -inf\n",
      "f14 = -inf\n",
      "f15 = -inf\n",
      "f16 = -inf\n",
      "f17 = -inf\n",
      "f18 = -inf\n",
      "f19 = -inf\n",
      "f20 = -inf\n"
     ]
    }
   ],
   "source": [
    "# r = 4.5, f0 = 0.501\n",
    "r = 4.5\n",
    "f0 = 0.501\n",
    "print('r =', r, ',', 'f0 =', f0)\n",
    "for i in range(1, 21):\n",
    "    print('f' + str(i) + ' =', logistic_map(r, f0, i))"
   ]
  },
  {
   "cell_type": "markdown",
   "metadata": {},
   "source": [
    "# 피보나치 수 (Fibonacci numbers)"
   ]
  },
  {
   "cell_type": "markdown",
   "metadata": {},
   "source": [
    "피보나치 수(Fibonacci numbers)는 처음 두 개의 항이 1이며 그 뒤의 모든 항은 앞의 두 개의 항의 합으로 주어지는 수열이다. 따라서 다음처럼 주어지는 수열이다.   \n",
    "\n",
    "$$1, 1, 2, 3, 5, 8, \\cdots$$  \n",
    "\n",
    "$n$번째 피보나치 수 $F_n$은 다음의 식으로 구할 수 있다.\n",
    "$F_1=F_2=1$,  $F_n=F_{n-1}+F_{n-2}$, ($n \\in \\{3,4,\\cdots \\} $)\n",
    "\n",
    "\n",
    "$n$번째 피보나치 수를 구하는 함수를 프로그래밍하여라. "
   ]
  },
  {
   "cell_type": "code",
   "execution_count": 18,
   "metadata": {},
   "outputs": [],
   "source": [
    "# 피보나치 함수 정의\n",
    "def pibonacci(n):\n",
    "    if type(n) != int or n < 0:\n",
    "        print('n은 0보다 큰 정수여야 합니다!')\n",
    "        return None\n",
    "    if n == 1:\n",
    "        return 1\n",
    "    elif n == 2:\n",
    "        return 1\n",
    "    else:\n",
    "        return pibonacci(n - 1) + pibonacci(n - 2)"
   ]
  },
  {
   "cell_type": "code",
   "execution_count": 23,
   "metadata": {},
   "outputs": [
    {
     "data": {
      "text/plain": [
       "8"
      ]
     },
     "execution_count": 23,
     "metadata": {},
     "output_type": "execute_result"
    }
   ],
   "source": [
    "# 테스트\n",
    "pibonacci(6) # 8이 나와야 함"
   ]
  },
  {
   "cell_type": "markdown",
   "metadata": {},
   "source": [
    "### 숙제 마감시간은 3월 22일 자정입니다."
   ]
  }
 ],
 "metadata": {
  "kernelspec": {
   "display_name": "Python 3",
   "language": "python",
   "name": "python3"
  },
  "language_info": {
   "codemirror_mode": {
    "name": "ipython",
    "version": 3
   },
   "file_extension": ".py",
   "mimetype": "text/x-python",
   "name": "python",
   "nbconvert_exporter": "python",
   "pygments_lexer": "ipython3",
   "version": "3.9.1"
  }
 },
 "nbformat": 4,
 "nbformat_minor": 2
}
